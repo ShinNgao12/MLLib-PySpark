{
 "cells": [
  {
   "cell_type": "code",
   "execution_count": 1,
   "id": "890e7c30",
   "metadata": {},
   "outputs": [],
   "source": [
    "import findspark\n",
    "findspark.init()\n",
    "findspark.find()\n",
    "from pyspark.sql import SparkSession\n",
    "import pyspark.sql.functions as f\n",
    "from pyspark.sql import types as T"
   ]
  },
  {
   "cell_type": "code",
   "execution_count": 2,
   "id": "8770063e",
   "metadata": {},
   "outputs": [
    {
     "name": "stderr",
     "output_type": "stream",
     "text": [
      "22/05/28 17:18:21 WARN Utils: Your hostname, funny resolves to a loopback address: 127.0.1.1; using 192.168.20.179 instead (on interface wlo1)\n",
      "22/05/28 17:18:21 WARN Utils: Set SPARK_LOCAL_IP if you need to bind to another address\n",
      "WARNING: An illegal reflective access operation has occurred\n",
      "WARNING: Illegal reflective access by org.apache.spark.unsafe.Platform (file:/opt/spark/jars/spark-unsafe_2.12-3.2.1.jar) to constructor java.nio.DirectByteBuffer(long,int)\n",
      "WARNING: Please consider reporting this to the maintainers of org.apache.spark.unsafe.Platform\n",
      "WARNING: Use --illegal-access=warn to enable warnings of further illegal reflective access operations\n",
      "WARNING: All illegal access operations will be denied in a future release\n",
      "Using Spark's default log4j profile: org/apache/spark/log4j-defaults.properties\n",
      "Setting default log level to \"WARN\".\n",
      "To adjust logging level use sc.setLogLevel(newLevel). For SparkR, use setLogLevel(newLevel).\n",
      "22/05/28 17:18:22 WARN NativeCodeLoader: Unable to load native-hadoop library for your platform... using builtin-java classes where applicable\n",
      "22/05/28 17:18:23 WARN Utils: Service 'SparkUI' could not bind on port 4040. Attempting port 4041.\n"
     ]
    }
   ],
   "source": [
    "spark = SparkSession.builder.master(\"local\")\\\n",
    "        .appName(\"Spark\")\\\n",
    "        .getOrCreate()"
   ]
  },
  {
   "cell_type": "markdown",
   "id": "e671848a",
   "metadata": {},
   "source": [
    "# 1. FPGrowth cho tập dữ liệu order.csv và products.csv"
   ]
  },
  {
   "cell_type": "markdown",
   "id": "08c4cc0c",
   "metadata": {},
   "source": [
    "## Mô tả dữ liệu : \n",
    "Tập dữ liệu order chứa các giao dịch được thực hiện gồm các trường thông tin :\n",
    "- order_id : mã giao dịch\n",
    "- product_id : mã sản phẩm\n",
    "- add_to_cart_order : thứ tự bỏ vào giỏ\n",
    "- reordered : sản phẩm này có được mua lại không \n",
    "\n",
    "Tâp dữ liệu product chứa các sản phẩm bày bán trong cừa hàng gồm các trường thông tin:\n",
    "- product_id : mã sản phẩm\n",
    "- product_name : tên sản phẩm \n",
    "- và các thông tin khác\n",
    "\n",
    "**Ta chỉ quan tâm tới 2 trường thuộc tính đầu tiên**"
   ]
  },
  {
   "cell_type": "code",
   "execution_count": 3,
   "id": "460c1b24",
   "metadata": {},
   "outputs": [
    {
     "name": "stdout",
     "output_type": "stream",
     "text": [
      "root\n",
      " |-- order_id: string (nullable = true)\n",
      " |-- product_id: string (nullable = true)\n",
      " |-- add_to_cart_order: string (nullable = true)\n",
      " |-- reordered: string (nullable = true)\n",
      "\n",
      "+--------+----------+-----------------+---------+\n",
      "|order_id|product_id|add_to_cart_order|reordered|\n",
      "+--------+----------+-----------------+---------+\n",
      "|       1|     49302|                1|        1|\n",
      "|       1|     11109|                2|        1|\n",
      "|       1|     10246|                3|        0|\n",
      "|       1|     49683|                4|        0|\n",
      "|       1|     43633|                5|        1|\n",
      "+--------+----------+-----------------+---------+\n",
      "only showing top 5 rows\n",
      "\n",
      "None\n"
     ]
    }
   ],
   "source": [
    "order_data = spark.read.csv('Data/orders.csv',header = True, sep = ',')\n",
    "order_data.printSchema()\n",
    "print(order_data.show(5))"
   ]
  },
  {
   "cell_type": "code",
   "execution_count": 4,
   "id": "fa78b51f",
   "metadata": {
    "scrolled": true
   },
   "outputs": [
    {
     "name": "stdout",
     "output_type": "stream",
     "text": [
      "root\n",
      " |-- product_id: string (nullable = true)\n",
      " |-- product_name: string (nullable = true)\n",
      " |-- aisle_id: string (nullable = true)\n",
      " |-- department_id: string (nullable = true)\n",
      "\n",
      "+----------+--------------------+--------+-------------+\n",
      "|product_id|        product_name|aisle_id|department_id|\n",
      "+----------+--------------------+--------+-------------+\n",
      "|         1|Chocolate Sandwic...|      61|           19|\n",
      "|         2|    All-Seasons Salt|     104|           13|\n",
      "|         3|Robust Golden Uns...|      94|            7|\n",
      "|         4|Smart Ones Classi...|      38|            1|\n",
      "|         5|Green Chile Anyti...|       5|           13|\n",
      "+----------+--------------------+--------+-------------+\n",
      "only showing top 5 rows\n",
      "\n",
      "None\n"
     ]
    }
   ],
   "source": [
    "product_data = spark.read.csv('Data/products.csv',header = True, sep = ',')\n",
    "product_data.printSchema()\n",
    "print(product_data.show(5))"
   ]
  },
  {
   "cell_type": "markdown",
   "id": "6759f002",
   "metadata": {},
   "source": [
    "## 1.1 Đưa dữ liệu về một DataFrame gồm 2 cột theo đúng thứ tự là `order id`  và danh sách `product_name`"
   ]
  },
  {
   "cell_type": "code",
   "execution_count": 5,
   "id": "a4805bc6",
   "metadata": {},
   "outputs": [
    {
     "name": "stderr",
     "output_type": "stream",
     "text": [
      "\r",
      "[Stage 4:>                                                          (0 + 1) / 1]\r",
      "\r",
      "                                                                                \r"
     ]
    },
    {
     "name": "stdout",
     "output_type": "stream",
     "text": [
      "+----------+--------+--------------------+\n",
      "|product_id|order_id|        product_name|\n",
      "+----------+--------+--------------------+\n",
      "|     49302|       1|    Bulgarian Yogurt|\n",
      "|     11109|       1|Organic 4% Milk F...|\n",
      "|     10246|       1|Organic Celery He...|\n",
      "|     49683|       1|      Cucumber Kirby|\n",
      "|     43633|       1|Lightly Smoked Sa...|\n",
      "|     13176|       1|Bag of Organic Ba...|\n",
      "|     47209|       1|Organic Hass Avocado|\n",
      "|     22035|       1|Organic Whole Str...|\n",
      "|     39612|      36|Grated Pecorino R...|\n",
      "|     19660|      36|        Spring Water|\n",
      "+----------+--------+--------------------+\n",
      "only showing top 10 rows\n",
      "\n"
     ]
    }
   ],
   "source": [
    "# merge bằng product_id\n",
    "merge_data = order_data[['order_id','product_id']].\\\n",
    "                        join(product_data[['product_id','product_name']], \"product_id\")\n",
    "merge_data.show(10)"
   ]
  },
  {
   "cell_type": "code",
   "execution_count": 6,
   "id": "f6da9963",
   "metadata": {},
   "outputs": [
    {
     "name": "stderr",
     "output_type": "stream",
     "text": [
      "[Stage 9:>                                                          (0 + 1) / 1]\r"
     ]
    },
    {
     "name": "stdout",
     "output_type": "stream",
     "text": [
      "+--------+--------------------+\n",
      "|order_id|            products|\n",
      "+--------+--------------------+\n",
      "|       1|[Bag of Organic B...|\n",
      "|  100000|[Corn Tortillas, ...|\n",
      "| 1000008|[Daily Moisture S...|\n",
      "| 1000029|[Almond Chia Gran...|\n",
      "|  100003|[Cereal, Organic ...|\n",
      "+--------+--------------------+\n",
      "only showing top 5 rows\n",
      "\n"
     ]
    },
    {
     "name": "stderr",
     "output_type": "stream",
     "text": [
      "\r",
      "                                                                                \r"
     ]
    }
   ],
   "source": [
    "# thực hiện gom nhóm và ghép giá trị\n",
    "''' collect_list() function dùng để thu thập lại product_name, \n",
    "    những function phía sau chỉ để thay đổi tên cột và chuyển đổi giá trị''' \n",
    "data = merge_data.groupby('order_id') \\\n",
    "                 .agg(f.sort_array(f.collect_list(f.struct('product_name'))) \\\n",
    "                                                   .alias(\"collected_list\")) \\\n",
    "                 .withColumn('products',f.col(\"collected_list.product_name\")) \\\n",
    "                 .drop('collected_list').orderBy('order_id')\n",
    "\n",
    "data.show(5)"
   ]
  },
  {
   "cell_type": "markdown",
   "id": "e868e890",
   "metadata": {},
   "source": [
    "## 1.2 Áp dụng giải thuật FPGrowth."
   ]
  },
  {
   "cell_type": "code",
   "execution_count": 7,
   "id": "f9400ba3",
   "metadata": {},
   "outputs": [],
   "source": [
    "from pyspark.ml.fpm import FPGrowth"
   ]
  },
  {
   "cell_type": "markdown",
   "id": "f1b6c082",
   "metadata": {},
   "source": [
    "### Case 1 : minSupport = 0.5, minConfidence = 0.75"
   ]
  },
  {
   "cell_type": "code",
   "execution_count": 8,
   "id": "50d6f238",
   "metadata": {
    "scrolled": true
   },
   "outputs": [
    {
     "name": "stderr",
     "output_type": "stream",
     "text": [
      "/opt/spark/python/pyspark/sql/context.py:125: FutureWarning: Deprecated in 3.0.0. Use SparkSession.builder.getOrCreate() instead.\n",
      "  warnings.warn(\n"
     ]
    },
    {
     "name": "stdout",
     "output_type": "stream",
     "text": [
      "+-----+----+\n",
      "|items|freq|\n",
      "+-----+----+\n",
      "+-----+----+\n",
      "\n",
      "+----------+----------+----------+----+-------+\n",
      "|antecedent|consequent|confidence|lift|support|\n",
      "+----------+----------+----------+----+-------+\n",
      "+----------+----------+----------+----+-------+\n",
      "\n"
     ]
    },
    {
     "data": {
      "text/plain": [
       "(None, None)"
      ]
     },
     "execution_count": 8,
     "metadata": {},
     "output_type": "execute_result"
    }
   ],
   "source": [
    "fpGrowth = FPGrowth(itemsCol='products',\n",
    "                    minSupport = 0.5, \n",
    "                    minConfidence=0.75)\n",
    "\n",
    "model = fpGrowth.fit(data)\n",
    "patterns_model1 = model.freqItemsets\n",
    "rules_model1 = model.associationRules\n",
    "\n",
    "patterns_model1.show(),rules_model1.show()"
   ]
  },
  {
   "cell_type": "markdown",
   "id": "cee4a9c1",
   "metadata": {},
   "source": [
    "### Nhận xét : \n",
    "- Tập dữ liệu khá lớn nên với `minSupport`, `minConfidence` quá lớn ta sẽ khó tìm thấy tập phổ biến và luật\n",
    "- Giảm `minSupport, minConfidence` nhưng `minConfidence` cũng không quá thấp để đảm bảo độ tin cậy của luật"
   ]
  },
  {
   "cell_type": "markdown",
   "id": "cdd34f1e",
   "metadata": {},
   "source": [
    "### Case 2: minSupport = 0.1, minConfidence = 0.5"
   ]
  },
  {
   "cell_type": "code",
   "execution_count": 9,
   "id": "75142b7f",
   "metadata": {},
   "outputs": [
    {
     "name": "stderr",
     "output_type": "stream",
     "text": [
      "                                                                                \r"
     ]
    },
    {
     "name": "stdout",
     "output_type": "stream",
     "text": [
      "+--------------------+-----+\n",
      "|               items| freq|\n",
      "+--------------------+-----+\n",
      "|[Bag of Organic B...|15480|\n",
      "|            [Banana]|18726|\n",
      "+--------------------+-----+\n",
      "\n",
      "+----------+----------+----------+----+-------+\n",
      "|antecedent|consequent|confidence|lift|support|\n",
      "+----------+----------+----------+----+-------+\n",
      "+----------+----------+----------+----+-------+\n",
      "\n"
     ]
    },
    {
     "data": {
      "text/plain": [
       "(None, None)"
      ]
     },
     "execution_count": 9,
     "metadata": {},
     "output_type": "execute_result"
    }
   ],
   "source": [
    "fpGrowth = FPGrowth(itemsCol='products',\n",
    "                    minSupport = 0.1, \n",
    "                    minConfidence = 0.5)\n",
    "\n",
    "model = fpGrowth.fit(data)\n",
    "patterns_model2 = model.freqItemsets\n",
    "rules_model2 = model.associationRules\n",
    "\n",
    "patterns_model2.show(),rules_model2.show()"
   ]
  },
  {
   "cell_type": "markdown",
   "id": "e8f0041b",
   "metadata": {},
   "source": [
    "### Case 3 : minSupport = 0.005, minConfidence = 0.45"
   ]
  },
  {
   "cell_type": "code",
   "execution_count": 10,
   "id": "d80b02fc",
   "metadata": {},
   "outputs": [
    {
     "name": "stderr",
     "output_type": "stream",
     "text": [
      "                                                                                \r"
     ]
    },
    {
     "name": "stdout",
     "output_type": "stream",
     "text": [
      "+--------------------+----+\n",
      "|               items|freq|\n",
      "+--------------------+----+\n",
      "|[Original Orange ...|1054|\n",
      "|[Total 0% Nonfat ...| 993|\n",
      "|[Organic Cripps P...| 730|\n",
      "|[Vine Ripe Tomatoes]| 708|\n",
      "|      [Green Onions]|1445|\n",
      "|[Organic Sticks L...|1342|\n",
      "|[Organic Raw Komb...| 855|\n",
      "|[Organic Snipped ...| 772|\n",
      "|[Organic Egg Whites]| 834|\n",
      "|[Organic Frozen P...| 753|\n",
      "|[Flat Parsley, Bu...| 658|\n",
      "|[Medium Navel Ora...| 796|\n",
      "|[Organic Reduced ...|1535|\n",
      "|[Natural Spring W...| 950|\n",
      "|[Organic Baby Rai...| 914|\n",
      "|[Original Veggie ...| 684|\n",
      "|     [Organic Basil]|1222|\n",
      "|[100% Recycled Pa...|1183|\n",
      "|[Organic Large Br...|1137|\n",
      "|    [Classic Hummus]| 694|\n",
      "+--------------------+----+\n",
      "only showing top 20 rows\n",
      "\n"
     ]
    },
    {
     "name": "stderr",
     "output_type": "stream",
     "text": [
      "[Stage 92:>                                                         (0 + 1) / 1]\r"
     ]
    },
    {
     "name": "stdout",
     "output_type": "stream",
     "text": [
      "+--------------------+--------------------+------------------+-----------------+--------------------+\n",
      "|          antecedent|          consequent|        confidence|             lift|             support|\n",
      "+--------------------+--------------------+------------------+-----------------+--------------------+\n",
      "|[Organic Hass Avo...|[Bag of Organic B...|0.4613385315139701|3.910320890272384|0.005411214169759696|\n",
      "+--------------------+--------------------+------------------+-----------------+--------------------+\n",
      "\n"
     ]
    },
    {
     "name": "stderr",
     "output_type": "stream",
     "text": [
      "\r",
      "                                                                                \r"
     ]
    },
    {
     "data": {
      "text/plain": [
       "(None, None)"
      ]
     },
     "execution_count": 10,
     "metadata": {},
     "output_type": "execute_result"
    }
   ],
   "source": [
    "fpGrowth = FPGrowth(itemsCol='products', \n",
    "                    minSupport = 0.005,\n",
    "                    minConfidence = 0.45)\n",
    "\n",
    "model = fpGrowth.fit(data)\n",
    "patterns_model3 = model.freqItemsets\n",
    "rules_model3 = model.associationRules\n",
    "\n",
    "patterns_model3.show(),rules_model3.show()"
   ]
  },
  {
   "cell_type": "markdown",
   "id": "6f45f72c",
   "metadata": {},
   "source": [
    "####  Thuật toán đã tìm thấy luật, ta sẽ thử giảm minConfidence"
   ]
  },
  {
   "cell_type": "markdown",
   "id": "84ebbaf1",
   "metadata": {},
   "source": [
    "### Case 4 : minSupport = 0.005, minConfidence = 0.3"
   ]
  },
  {
   "cell_type": "code",
   "execution_count": 11,
   "id": "642d2a7c",
   "metadata": {},
   "outputs": [
    {
     "name": "stderr",
     "output_type": "stream",
     "text": [
      "                                                                                \r"
     ]
    },
    {
     "name": "stdout",
     "output_type": "stream",
     "text": [
      "+--------------------+----+\n",
      "|               items|freq|\n",
      "+--------------------+----+\n",
      "|[Original Orange ...|1054|\n",
      "|[Total 0% Nonfat ...| 993|\n",
      "|[Organic Cripps P...| 730|\n",
      "|[Vine Ripe Tomatoes]| 708|\n",
      "|      [Green Onions]|1445|\n",
      "|[Organic Sticks L...|1342|\n",
      "|[Organic Raw Komb...| 855|\n",
      "|[Organic Snipped ...| 772|\n",
      "|[Organic Egg Whites]| 834|\n",
      "|[Organic Frozen P...| 753|\n",
      "|[Flat Parsley, Bu...| 658|\n",
      "|[Medium Navel Ora...| 796|\n",
      "|[Organic Reduced ...|1535|\n",
      "|[Natural Spring W...| 950|\n",
      "|[Organic Baby Rai...| 914|\n",
      "|[Original Veggie ...| 684|\n",
      "|     [Organic Basil]|1222|\n",
      "|[100% Recycled Pa...|1183|\n",
      "|[Organic Large Br...|1137|\n",
      "|    [Classic Hummus]| 694|\n",
      "+--------------------+----+\n",
      "only showing top 20 rows\n",
      "\n"
     ]
    },
    {
     "name": "stderr",
     "output_type": "stream",
     "text": [
      "[Stage 118:>                                                        (0 + 1) / 1]\r"
     ]
    },
    {
     "name": "stdout",
     "output_type": "stream",
     "text": [
      "+--------------------+--------------------+-------------------+------------------+--------------------+\n",
      "|          antecedent|          consequent|         confidence|              lift|             support|\n",
      "+--------------------+--------------------+-------------------+------------------+--------------------+\n",
      "|     [Organic Lemon]|[Bag of Organic B...| 0.3044222539229672| 2.580293250321615| 0.00813206411145577|\n",
      "|[Organic Hass Avo...|[Bag of Organic B...|0.33182503770739064|2.8125601661853374|0.018443856747631642|\n",
      "|[Organic Navel Or...|[Bag of Organic B...| 0.3661616161616162| 3.103598158588469|0.005525535595881...|\n",
      "|    [Cucumber Kirby]|            [Banana]|  0.307915457936179| 2.157496492595755|0.005662721307227...|\n",
      "|  [Honeycrisp Apple]|            [Banana]|0.34666291185581527|2.4289914558202317|0.009381978370386177|\n",
      "|       [Blueberries]|            [Banana]|0.30822212656048215| 2.159645252796876| 0.00545694274020837|\n",
      "|[Organic Large Ex...|[Bag of Organic B...| 0.3365617433414044|2.8527086422533805|0.007415649841093...|\n",
      "|[Apple Honeycrisp...|[Bag of Organic B...|0.30506216696269983| 2.585717174742176|0.005235921316373...|\n",
      "|[Organic Fuji Apple]|            [Banana]|0.37150752225974826|  2.60307222515109|0.009221928373815821|\n",
      "|[Organic Hass Avo...|[Bag of Organic B...| 0.4613385315139701| 3.910320890272384|0.005411214169759696|\n",
      "|[Organic Raspberr...|[Organic Strawber...| 0.3011179228272629|3.6267102566772844|0.012727785441547455|\n",
      "|[Organic Raspberr...|[Bag of Organic B...|0.32095203750450774| 2.720400251222801|0.013566142566439803|\n",
      "|    [Broccoli Crown]|            [Banana]| 0.3154843110504775| 2.210529796465988| 0.00704982127750383|\n",
      "+--------------------+--------------------+-------------------+------------------+--------------------+\n",
      "\n"
     ]
    },
    {
     "name": "stderr",
     "output_type": "stream",
     "text": [
      "\r",
      "                                                                                \r"
     ]
    },
    {
     "data": {
      "text/plain": [
       "(None, None)"
      ]
     },
     "execution_count": 11,
     "metadata": {},
     "output_type": "execute_result"
    }
   ],
   "source": [
    "fpGrowth = FPGrowth(itemsCol='products', \n",
    "                    minSupport = 0.005, \n",
    "                    minConfidence = 0.3)\n",
    "model = fpGrowth.fit(data)\n",
    "patterns_model4 = model.freqItemsets\n",
    "rules_model4 = model.associationRules\n",
    "\n",
    "patterns_model4.show(),rules_model4.show()"
   ]
  },
  {
   "cell_type": "markdown",
   "id": "fe964c3f",
   "metadata": {},
   "source": [
    "## 1.3 Nhận xét : \n",
    "- Ta thấy ở cột `consequent` mặc định là tập phổ biến chứa `1 item`.\n",
    "- Vì vậy ta không đảm bảo luật sinh ra theo chiều ngược lại có đúng hay không.\n",
    "- Để khắc phục vấn đề này ta sẽ xem xét đến tham số `lift`:\n",
    "    - Tham số  `lift` đánh giá khả năng cùng xuất hiện {A} và {B}\n",
    "    - Nếu tham số `lift` > 1 và giá trị `lift` càng lớn thì ta có thể xác định chính xác {A} , {B} sẽ cùng xuất hiện "
   ]
  },
  {
   "cell_type": "markdown",
   "id": "29b08f00",
   "metadata": {},
   "source": [
    "# 2. Classification cho tập dữ liệu mushroom.csv"
   ]
  },
  {
   "cell_type": "code",
   "execution_count": 12,
   "id": "fc2a21bd",
   "metadata": {},
   "outputs": [],
   "source": [
    "from pyspark.ml import Pipeline\n",
    "from pyspark.ml.feature import StringIndexer, VectorAssembler\n",
    "from pyspark.ml.evaluation import MulticlassClassificationEvaluator\n",
    "from pyspark.ml.classification import RandomForestClassifier\n",
    "from pyspark.ml.classification import DecisionTreeClassifier"
   ]
  },
  {
   "cell_type": "markdown",
   "id": "e721e049",
   "metadata": {},
   "source": [
    "## Mô tả dữ liệu : \n",
    "\n",
    "### Tập dữ liệu mushroom chứa 8124 mẫu được thể hiện bằng 22 thuộc tính và phân loại  thành `edible`(e) hoặc `poisonous`(p)"
   ]
  },
  {
   "cell_type": "code",
   "execution_count": 13,
   "id": "031d15ca",
   "metadata": {},
   "outputs": [
    {
     "name": "stdout",
     "output_type": "stream",
     "text": [
      "root\n",
      " |-- class: string (nullable = true)\n",
      " |-- cap-shape: string (nullable = true)\n",
      " |-- cap-surface: string (nullable = true)\n",
      " |-- cap-color: string (nullable = true)\n",
      " |-- bruises: string (nullable = true)\n",
      " |-- odor: string (nullable = true)\n",
      " |-- gill-attachment: string (nullable = true)\n",
      " |-- gill-spacing: string (nullable = true)\n",
      " |-- gill-size: string (nullable = true)\n",
      " |-- gill-color: string (nullable = true)\n",
      " |-- stalk-shape: string (nullable = true)\n",
      " |-- stalk-root: string (nullable = true)\n",
      " |-- stalk-surface-above-ring: string (nullable = true)\n",
      " |-- stalk-surface-below-ring: string (nullable = true)\n",
      " |-- stalk-color-above-ring: string (nullable = true)\n",
      " |-- stalk-color-below-ring: string (nullable = true)\n",
      " |-- veil-type: string (nullable = true)\n",
      " |-- veil-color: string (nullable = true)\n",
      " |-- ring-number: string (nullable = true)\n",
      " |-- ring-type: string (nullable = true)\n",
      " |-- spore-print-color: string (nullable = true)\n",
      " |-- population: string (nullable = true)\n",
      " |-- habitat: string (nullable = true)\n",
      "\n"
     ]
    }
   ],
   "source": [
    "mushroom_data = spark.read.csv('Data/mushrooms.csv',header=True,sep = ',')\n",
    "mushroom_data.printSchema()"
   ]
  },
  {
   "cell_type": "markdown",
   "id": "b019ebc6",
   "metadata": {},
   "source": [
    "## 2.1 Tạo StringIndexer , VectorAssembler và chia tập dữ liệu"
   ]
  },
  {
   "cell_type": "code",
   "execution_count": 14,
   "id": "0b6410c0",
   "metadata": {
    "scrolled": true
   },
   "outputs": [],
   "source": [
    "input_cols = [col for col in mushroom_data.columns]\n",
    "output_cols = [col + '_index' for col in input_cols]\n",
    "\n",
    "stringIndexer = StringIndexer(inputCols = input_cols,\n",
    "                              outputCols = output_cols)\n",
    "\n",
    "assembler = VectorAssembler(inputCols=[col for col in output_cols if 'class' not in col],\n",
    "                            outputCol='features')\n",
    "\n",
    "train_df, test_df = mushroom_data.randomSplit([0.8,0.2])"
   ]
  },
  {
   "cell_type": "markdown",
   "id": "f8915eaf",
   "metadata": {},
   "source": [
    "## 2.2 Xây dựng mô hình Decision Tree trên tập huyến luyện."
   ]
  },
  {
   "cell_type": "markdown",
   "id": "5e563cac",
   "metadata": {},
   "source": [
    "### Tạo mô hình Decision Tree"
   ]
  },
  {
   "cell_type": "code",
   "execution_count": 15,
   "id": "6950cc3d",
   "metadata": {},
   "outputs": [],
   "source": [
    "d_tree = DecisionTreeClassifier(featuresCol='features', \n",
    "                                labelCol='class_index',\n",
    "                                predictionCol = 'class_prediction')"
   ]
  },
  {
   "cell_type": "markdown",
   "id": "e2eef27e",
   "metadata": {},
   "source": [
    "### Tạo pipeline cho mô hình Decision Tree"
   ]
  },
  {
   "cell_type": "code",
   "execution_count": 16,
   "id": "5bc79b07",
   "metadata": {
    "scrolled": true
   },
   "outputs": [
    {
     "name": "stderr",
     "output_type": "stream",
     "text": [
      "22/05/28 17:19:36 WARN package: Truncated the string representation of a plan since it was too large. This behavior can be adjusted by setting 'spark.sql.debug.maxToStringFields'.\n"
     ]
    }
   ],
   "source": [
    "tree_pipeline = Pipeline(stages=[stringIndexer,assembler,d_tree])\n",
    "tree_model = tree_pipeline.fit(train_df)\n",
    "tree_predict_train = tree_model.transform(train_df)"
   ]
  },
  {
   "cell_type": "markdown",
   "id": "31538621",
   "metadata": {},
   "source": [
    "### Đánh giá  tập huấn luyện "
   ]
  },
  {
   "cell_type": "code",
   "execution_count": 17,
   "id": "facca8fe",
   "metadata": {},
   "outputs": [
    {
     "name": "stdout",
     "output_type": "stream",
     "text": [
      "Decision tree - accuracy score on train dataset = 0.99954\n"
     ]
    }
   ],
   "source": [
    "accuracy = MulticlassClassificationEvaluator(labelCol=\"class_index\",\n",
    "                                             predictionCol=\"class_prediction\",\n",
    "                                             metricName=\"accuracy\")\n",
    "accuracy_score = accuracy.evaluate(tree_predict_train)\n",
    "print(f'Decision tree - accuracy score on train dataset = {round(accuracy_score,5)}')"
   ]
  },
  {
   "cell_type": "markdown",
   "id": "87fe97b7",
   "metadata": {},
   "source": [
    "## 2.3 Xây dựng mô hình Random Forest trên tập huấn luyện"
   ]
  },
  {
   "cell_type": "markdown",
   "id": "8d5526ce",
   "metadata": {},
   "source": [
    "### Tạo mô hình Random Forest"
   ]
  },
  {
   "cell_type": "code",
   "execution_count": 18,
   "id": "031d4537",
   "metadata": {},
   "outputs": [],
   "source": [
    "rand_forest = RandomForestClassifier(featuresCol='features', \n",
    "                                     labelCol='class_index', \n",
    "                                     predictionCol = 'class_prediction', \n",
    "                                     numTrees=10)"
   ]
  },
  {
   "cell_type": "markdown",
   "id": "06f3fef9",
   "metadata": {},
   "source": [
    "### Tạo pipeline cho mô hình Random Forest"
   ]
  },
  {
   "cell_type": "code",
   "execution_count": 19,
   "id": "2e49679b",
   "metadata": {},
   "outputs": [],
   "source": [
    "rf_pipeline = Pipeline(stages=[stringIndexer,assembler,rand_forest])\n",
    "rf_model = rf_pipeline.fit(train_df)\n",
    "rf_predict_train = rf_model.transform(train_df)"
   ]
  },
  {
   "cell_type": "markdown",
   "id": "fd0ec687",
   "metadata": {},
   "source": [
    "### Đánh giá tập huấn luyện"
   ]
  },
  {
   "cell_type": "code",
   "execution_count": 20,
   "id": "7407f1ea",
   "metadata": {
    "scrolled": true
   },
   "outputs": [
    {
     "name": "stdout",
     "output_type": "stream",
     "text": [
      "Random Forest - accuracy score on train dataset = 0.99738\n"
     ]
    }
   ],
   "source": [
    "accuracy_score = accuracy.evaluate(rf_predict_train)\n",
    "print(f'Random Forest - accuracy score on train dataset = {round(accuracy_score,5)}')"
   ]
  },
  {
   "cell_type": "markdown",
   "id": "fecf9be6",
   "metadata": {},
   "source": [
    "## 2.4 Đánh giá hai mô hình trên tập kiểm thử"
   ]
  },
  {
   "cell_type": "code",
   "execution_count": 21,
   "id": "39b3e830",
   "metadata": {
    "scrolled": true
   },
   "outputs": [],
   "source": [
    "precision = MulticlassClassificationEvaluator(labelCol=\"class_index\",\n",
    "                                              predictionCol=\"class_prediction\",\n",
    "                                              metricName=\"weightedPrecision\")\n",
    "recall = MulticlassClassificationEvaluator(labelCol=\"class_index\",\n",
    "                                           predictionCol=\"class_prediction\", \n",
    "                                           metricName=\"weightedRecall\")"
   ]
  },
  {
   "cell_type": "markdown",
   "id": "a72646ae",
   "metadata": {
    "tags": []
   },
   "source": [
    "### Decision Tree"
   ]
  },
  {
   "cell_type": "code",
   "execution_count": 22,
   "id": "44b90c0a",
   "metadata": {
    "scrolled": true
   },
   "outputs": [
    {
     "name": "stdout",
     "output_type": "stream",
     "text": [
      "Decision tree - accuracy score on test dataset = 0.99939\n",
      "Decision tree - precision score on mushroom dataset = 0.99951\n",
      "Decision tree - recall score on mushroom dataset = 0.99951\n"
     ]
    }
   ],
   "source": [
    "# tính accuracy trên tập test\n",
    "tree_predict_test = tree_model.transform(test_df)\n",
    "accuracy_score = accuracy.evaluate(tree_predict_test)\n",
    "print(f'Decision tree - accuracy score on test dataset = {round(accuracy_score,5)}')\n",
    "\n",
    "# tính precision, recall trên tập mushroom\n",
    "tree_predict_mushroom = tree_model.transform(mushroom_data)\n",
    "precision_score = precision.evaluate(tree_predict_mushroom)\n",
    "recall_score = recall.evaluate(tree_predict_mushroom)\n",
    "\n",
    "print(f'Decision tree - precision score on mushroom dataset = {round(precision_score,5)}')\n",
    "print(f'Decision tree - recall score on mushroom dataset = {round(recall_score,5)}')"
   ]
  },
  {
   "cell_type": "markdown",
   "id": "ac7858e8",
   "metadata": {},
   "source": [
    "### Random Forest"
   ]
  },
  {
   "cell_type": "code",
   "execution_count": 23,
   "id": "85c71ee4",
   "metadata": {
    "scrolled": true
   },
   "outputs": [
    {
     "name": "stdout",
     "output_type": "stream",
     "text": [
      "Random Forest - accuracy score on test dataset = 0.99817\n",
      "Random Forest - precision score on test dataset = 0.99755\n",
      "Random Forest - recall score on test dataset = 0.99754\n"
     ]
    }
   ],
   "source": [
    "# tính accuracy trên tập test\n",
    "rf_predict_test = rf_model.transform(test_df)\n",
    "accuracy_score = accuracy.evaluate(rf_predict_test)\n",
    "print(f'Random Forest - accuracy score on test dataset = {round(accuracy_score,5)}')\n",
    "\n",
    "# tính precision, recall trên tập mushroom\n",
    "rf_predict_mushroom = rf_model.transform(mushroom_data)\n",
    "precision_score = precision.evaluate(rf_predict_mushroom)\n",
    "recall_score = recall.evaluate(rf_predict_mushroom)\n",
    "\n",
    "print(f'Random Forest - precision score on test dataset = {round(precision_score,5)}')\n",
    "print(f'Random Forest - recall score on test dataset = {round(recall_score,5)}')"
   ]
  },
  {
   "cell_type": "markdown",
   "id": "712bba1a",
   "metadata": {},
   "source": [
    "# 3. Clustering cho tập dữ liệu Plants"
   ]
  },
  {
   "cell_type": "markdown",
   "id": "82565c3c",
   "metadata": {},
   "source": [
    "## Mô tả dữ liệu : \n",
    "- Dữ liệu thể hiện sự phân bố của một số loài thực vật ở khu vực Mỹ và Canada.\n",
    "- Mỗi dòng chứa\n",
    "    - Tên loại thực vật\n",
    "    - Danh sách phân bố \\\n",
    "    Các trường thông tin ngăn cách nhau bởi dấu ','"
   ]
  },
  {
   "cell_type": "markdown",
   "id": "54492c8f",
   "metadata": {},
   "source": [
    "## 1. Tiền xử lý dữ liệu"
   ]
  },
  {
   "cell_type": "markdown",
   "id": "a0f8b3c7-44e2-47b6-9275-fc749ff93a3b",
   "metadata": {
    "tags": []
   },
   "source": [
    "## Phương pháp : chuyển đổi dữ liệu về dạng nhị phân\n",
    "- Cột đầu tiên thể hiện tên loài thực vật và các cột tiếp theo là biểu diễn các vùng địa lý\n",
    "- Nếu loài thực vật có mặt tại vùng địa lý đó thì cột tương ứng có giá trị 1, ngược lại mang giá trị 0"
   ]
  },
  {
   "cell_type": "code",
   "execution_count": 24,
   "id": "27c147ee",
   "metadata": {},
   "outputs": [
    {
     "name": "stdout",
     "output_type": "stream",
     "text": [
      "+--------------------+\n",
      "|               value|\n",
      "+--------------------+\n",
      "|        abelia,fl,nc|\n",
      "|abelia x grandifl...|\n",
      "|abelmoschus,ct,dc...|\n",
      "|abelmoschus escul...|\n",
      "|abelmoschus mosch...|\n",
      "+--------------------+\n",
      "only showing top 5 rows\n",
      "\n"
     ]
    }
   ],
   "source": [
    "plants_df = spark.read.text('Data/plants.data')\n",
    "plants_df.show(5)"
   ]
  },
  {
   "cell_type": "code",
   "execution_count": 25,
   "id": "38b3e417",
   "metadata": {},
   "outputs": [
    {
     "name": "stdout",
     "output_type": "stream",
     "text": [
      "+--------------------+--------------------+\n",
      "|               class|              states|\n",
      "+--------------------+--------------------+\n",
      "|              abelia|            [fl, nc]|\n",
      "|abelia x grandiflora|            [fl, nc]|\n",
      "|         abelmoschus|[ct, dc, fl, hi, ...|\n",
      "|abelmoschus escul...|[ct, dc, fl, il, ...|\n",
      "|abelmoschus mosch...|            [hi, pr]|\n",
      "+--------------------+--------------------+\n",
      "only showing top 5 rows\n",
      "\n"
     ]
    }
   ],
   "source": [
    "# split thành 2 phần : tên và list khu vực\n",
    "plants_df = plants_df.withColumn('values', f.split(plants_df['value'],',', limit=2)).drop('value')\n",
    "plants_df = plants_df.withColumn('class', plants_df['values'].getItem(0))\\\n",
    "                     .withColumn('states', f.split(plants_df['values'].getItem(1),',')).drop('values')\n",
    "plants_df.show(5)"
   ]
  },
  {
   "cell_type": "code",
   "execution_count": 26,
   "id": "2ed937c8",
   "metadata": {},
   "outputs": [
    {
     "name": "stdout",
     "output_type": "stream",
     "text": [
      "+--------------------+--------------------+-------------+\n",
      "|               class|              states|explode_state|\n",
      "+--------------------+--------------------+-------------+\n",
      "|              abelia|            [fl, nc]|           fl|\n",
      "|              abelia|            [fl, nc]|           nc|\n",
      "|abelia x grandiflora|            [fl, nc]|           fl|\n",
      "|abelia x grandiflora|            [fl, nc]|           nc|\n",
      "|         abelmoschus|[ct, dc, fl, hi, ...|           ct|\n",
      "|         abelmoschus|[ct, dc, fl, hi, ...|           dc|\n",
      "|         abelmoschus|[ct, dc, fl, hi, ...|           fl|\n",
      "|         abelmoschus|[ct, dc, fl, hi, ...|           hi|\n",
      "|         abelmoschus|[ct, dc, fl, hi, ...|           il|\n",
      "|         abelmoschus|[ct, dc, fl, hi, ...|           ky|\n",
      "+--------------------+--------------------+-------------+\n",
      "only showing top 10 rows\n",
      "\n"
     ]
    }
   ],
   "source": [
    "# explode khu vực\n",
    "plants_df = plants_df.withColumn('explode_state',f.explode(plants_df['states']))\n",
    "plants_df.show(10)"
   ]
  },
  {
   "cell_type": "code",
   "execution_count": 27,
   "id": "c057661d-9792-4634-8beb-e1ed8f042ddc",
   "metadata": {},
   "outputs": [
    {
     "name": "stderr",
     "output_type": "stream",
     "text": [
      "[Stage 178:>                                                        (0 + 1) / 1]\r"
     ]
    },
    {
     "name": "stdout",
     "output_type": "stream",
     "text": [
      "+--------------------+---+---+---+---+---+---+---+---+---+---+---+-----+---+------+---+---+---+---+---+---+---+---+---+---+---+---+---+---+---+---+---+---+---+---+---+---+---+---+---+---+---+---+---+---+---+---+---+---+---+---+---+---+---+---+---+---+---+---+---+---+---+---+---+---+---+---+---+---+---+---+\n",
      "|               class| ab| ak| al| ar| az| bc| ca| co| ct| dc| de|dengl| fl|fraspm| ga| gl| hi| ia| id| il| in| ks| ky| la| lb| ma| mb| md| me| mi| mn| mo| ms| mt| nb| nc| nd| ne| nf| nh| nj| nm| ns| nt| nu| nv| ny| oh| ok| on| or| pa| pe| pr| qc| ri| sc| sd| sk| tn| tx| ut| va| vi| vt| wa| wi| wv| wy| yt|\n",
      "+--------------------+---+---+---+---+---+---+---+---+---+---+---+-----+---+------+---+---+---+---+---+---+---+---+---+---+---+---+---+---+---+---+---+---+---+---+---+---+---+---+---+---+---+---+---+---+---+---+---+---+---+---+---+---+---+---+---+---+---+---+---+---+---+---+---+---+---+---+---+---+---+---+\n",
      "|           �achnella|  1|  0|  0|  0|  0|  1|  0|  0|  0|  0|  0|    0|  0|     0|  0|  0|  0|  0|  0|  0|  0|  0|  0|  0|  0|  0|  1|  0|  0|  0|  0|  0|  0|  1|  0|  0|  1|  1|  0|  0|  0|  0|  0|  1|  0|  0|  0|  0|  0|  0|  0|  0|  0|  0|  0|  0|  0|  0|  1|  0|  0|  0|  0|  0|  0|  0|  0|  0|  0|  1|\n",
      "|     cannabis sativa|  0|  0|  1|  1|  1|  0|  1|  1|  1|  1|  1|    0|  1|     0|  1|  0|  1|  1|  1|  1|  1|  1|  1|  1|  0|  1|  1|  1|  1|  1|  1|  1|  1|  1|  1|  1|  1|  1|  0|  1|  1|  1|  1|  0|  0|  0|  1|  1|  1|  1|  1|  1|  0|  1|  1|  1|  1|  1|  1|  1|  1|  1|  1|  0|  1|  1|  1|  1|  1|  0|\n",
      "|   carex heleonastes|  1|  1|  0|  0|  0|  1|  0|  0|  0|  0|  0|    0|  0|     0|  0|  0|  0|  0|  0|  0|  0|  0|  0|  0|  1|  0|  1|  0|  0|  1|  0|  0|  0|  0|  0|  0|  0|  0|  1|  0|  0|  0|  0|  1|  1|  0|  0|  0|  0|  1|  0|  0|  0|  0|  1|  0|  0|  0|  1|  0|  0|  0|  0|  0|  0|  0|  0|  0|  0|  1|\n",
      "|chaenactis suffru...|  0|  0|  0|  0|  0|  0|  1|  0|  0|  0|  0|    0|  0|     0|  0|  0|  0|  0|  0|  0|  0|  0|  0|  0|  0|  0|  0|  0|  0|  0|  0|  0|  0|  0|  0|  0|  0|  0|  0|  0|  0|  0|  0|  0|  0|  0|  0|  0|  0|  0|  0|  0|  0|  0|  0|  0|  0|  0|  0|  0|  0|  0|  0|  0|  0|  0|  0|  0|  0|  0|\n",
      "|   crassula solierii|  0|  0|  0|  0|  0|  0|  1|  0|  0|  0|  0|    0|  0|     0|  0|  0|  0|  0|  0|  0|  0|  0|  0|  0|  0|  0|  0|  0|  0|  0|  0|  0|  0|  1|  0|  0|  0|  0|  0|  0|  0|  0|  0|  0|  0|  1|  0|  0|  0|  0|  1|  0|  0|  0|  0|  0|  0|  0|  0|  0|  1|  0|  0|  0|  0|  0|  0|  0|  1|  0|\n",
      "+--------------------+---+---+---+---+---+---+---+---+---+---+---+-----+---+------+---+---+---+---+---+---+---+---+---+---+---+---+---+---+---+---+---+---+---+---+---+---+---+---+---+---+---+---+---+---+---+---+---+---+---+---+---+---+---+---+---+---+---+---+---+---+---+---+---+---+---+---+---+---+---+---+\n",
      "only showing top 5 rows\n",
      "\n"
     ]
    },
    {
     "name": "stderr",
     "output_type": "stream",
     "text": [
      "\r",
      "                                                                                \r"
     ]
    }
   ],
   "source": [
    "''' \n",
    "Bước 1:  groupby theo tên thực vật\n",
    "Bước 2 : tạo pivot table bằng cách count giá trị cột explode_state\n",
    "         nếu có giá trị thì trả về 1, ngược lại 0\n",
    "'''\n",
    "plants_df = plants_df.groupBy('class').pivot('explode_state').count().fillna(0)\n",
    "plants_df.show(5)"
   ]
  },
  {
   "cell_type": "markdown",
   "id": "7f416930-6f46-47b5-ba0f-bcd26f2f3762",
   "metadata": {},
   "source": [
    "## 2. Cluster bằng giải thuật k-means"
   ]
  },
  {
   "cell_type": "code",
   "execution_count": 28,
   "id": "1f1d05d8-4bc2-4797-9831-570e86f77a18",
   "metadata": {},
   "outputs": [],
   "source": [
    "from pyspark.ml.clustering import KMeans\n",
    "from pyspark.ml.evaluation import ClusteringEvaluator\n",
    "import numpy as np\n",
    "import matplotlib.pyplot as plt\n",
    "import seaborn as sns"
   ]
  },
  {
   "cell_type": "markdown",
   "id": "ee2e6439",
   "metadata": {},
   "source": [
    "###  Tạo VectorAssembler features"
   ]
  },
  {
   "cell_type": "code",
   "execution_count": 29,
   "id": "e6d67229-47dc-43ef-99af-6d717bec0aea",
   "metadata": {
    "scrolled": false
   },
   "outputs": [
    {
     "name": "stdout",
     "output_type": "stream",
     "text": [
      "+--------------------+--------------------+\n",
      "|               class|            features|\n",
      "+--------------------+--------------------+\n",
      "|           �achnella|(70,[0,5,26,33,36...|\n",
      "|     cannabis sativa|[0.0,0.0,1.0,1.0,...|\n",
      "|   carex heleonastes|(70,[0,1,5,24,26,...|\n",
      "|chaenactis suffru...|      (70,[6],[1.0])|\n",
      "|   crassula solierii|(70,[6,33,45,50,6...|\n",
      "+--------------------+--------------------+\n",
      "only showing top 5 rows\n",
      "\n"
     ]
    }
   ],
   "source": [
    "assembler = VectorAssembler(inputCols=plants_df.columns[1:], outputCol='features') \n",
    "plants_df = assembler.transform(plants_df)\n",
    "plants_df.select('class','features').show(5)"
   ]
  },
  {
   "cell_type": "markdown",
   "id": "2d42a13e",
   "metadata": {},
   "source": [
    "### Đánh giá kết quả gom cụm với tham số k khác nhau"
   ]
  },
  {
   "cell_type": "markdown",
   "id": "57607f13",
   "metadata": {},
   "source": [
    "### $k \\in [2,15]$"
   ]
  },
  {
   "cell_type": "code",
   "execution_count": 30,
   "id": "fa513891",
   "metadata": {},
   "outputs": [],
   "source": [
    "k_params = np.arange(2,10)                                          # số cụm \n",
    "silhouettes = np.zeros(k_params.shape[0])                           # khoảng cách giữa các cụm\n",
    "evaluator = [ClusteringEvaluator(\n",
    "            predictionCol='prediction_'+str(k),\n",
    "            featuresCol='features') for k in k_params]              # model đánh giá Clusters"
   ]
  },
  {
   "cell_type": "code",
   "execution_count": 31,
   "id": "9ea8d8a3",
   "metadata": {},
   "outputs": [
    {
     "name": "stderr",
     "output_type": "stream",
     "text": [
      "\r",
      "[Stage 196:>                                                        (0 + 1) / 1]\r",
      "\r",
      "                                                                                \r"
     ]
    }
   ],
   "source": [
    "for idx in range(len(k_params)):\n",
    "    k = k_params[idx]\n",
    "    kmean = KMeans().setK(k).setSeed(1).\\\n",
    "                     setFeaturesCol('features').\\\n",
    "                     setPredictionCol('prediction_' + str(k))\n",
    "    \n",
    "    model = kmean.fit(plants_df)\n",
    "    prediction = model.transform(plants_df)                                                             \n",
    "    silhouettes[idx] = evaluator[idx].evaluate(prediction)"
   ]
  },
  {
   "cell_type": "code",
   "execution_count": 32,
   "id": "f7b4d566",
   "metadata": {
    "scrolled": false
   },
   "outputs": [
    {
     "data": {
      "image/png": "[encoded data removed]",
      "text/plain": [
       "<Figure size 864x432 with 1 Axes>"
      ]
     },
     "metadata": {
      "needs_background": "light"
     },
     "output_type": "display_data"
    }
   ],
   "source": [
    "plt.rcParams['figure.figsize'] = (12,6)\n",
    "sns.lineplot(x = k_params, y = silhouettes, markers = 'a')\n",
    "plt.title('Silhouette with Squared euclidean distance for K cluster', fontsize = 15)\n",
    "plt.xlabel('Number of clusters')\n",
    "plt.ylabel('Silihouette')\n",
    "plt.show()"
   ]
  },
  {
   "cell_type": "markdown",
   "id": "7b57453a",
   "metadata": {},
   "source": [
    "## 3. Nhận xét:\n",
    "- Ta thấy khi k = 2 thì khoảng cách giữa các clusters là xa nhất\n",
    "- Nhưng gom `300.000` loại thực vật theo `70` khu vực thành `2 cụm` thì có vẻ không mang nhiều ý nghĩa, có thể đơn giản nó tách thành 2 cụm riêng biệt của Mỹ và Canada. \n",
    "- Khi `k càng tăng` thì giá trị khoảng cách nhìn chung giảm.\n",
    "\n",
    "Dưới đây là hình ảnh minh họa với $k \\in [2,70]$. Vì thời gian chạy khá lâu nên nhóm em chỉ trích dẫn hình ảnh đưa vào"
   ]
  },
  {
   "cell_type": "markdown",
   "id": "074666fd",
   "metadata": {},
   "source": [
    "![title](Data/clusters.png)"
   ]
  }
 ],
 "metadata": {
  "kernelspec": {
   "display_name": "Python 3 (ipykernel)",
   "language": "python",
   "name": "python3"
  },
  "language_info": {
   "codemirror_mode": {
    "name": "ipython",
    "version": 3
   },
   "file_extension": ".py",
   "mimetype": "text/x-python",
   "name": "python",
   "nbconvert_exporter": "python",
   "pygments_lexer": "ipython3",
   "version": "3.10.4"
  }
 },
 "nbformat": 4,
 "nbformat_minor": 5
}
